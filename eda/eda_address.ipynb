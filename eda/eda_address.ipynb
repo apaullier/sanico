{
 "cells": [
  {
   "cell_type": "markdown",
   "metadata": {},
   "source": [
    "# Exploratory Data Analysis (EDA)"
   ]
  },
  {
   "cell_type": "markdown",
   "metadata": {},
   "source": [
    "### Importar librerías"
   ]
  },
  {
   "cell_type": "code",
   "execution_count": 1,
   "metadata": {},
   "outputs": [],
   "source": [
    "import matplotlib.pyplot as plt\n",
    "import numpy as np\n",
    "import pandas as pd\n",
    "\n",
    "from sklearn.linear_model import LinearRegression"
   ]
  },
  {
   "cell_type": "markdown",
   "metadata": {},
   "source": [
    "### Cargar resultados"
   ]
  },
  {
   "cell_type": "code",
   "execution_count": 2,
   "metadata": {},
   "outputs": [
    {
     "data": {
      "text/html": [
       "<div>\n",
       "<style scoped>\n",
       "    .dataframe tbody tr th:only-of-type {\n",
       "        vertical-align: middle;\n",
       "    }\n",
       "\n",
       "    .dataframe tbody tr th {\n",
       "        vertical-align: top;\n",
       "    }\n",
       "\n",
       "    .dataframe thead th {\n",
       "        text-align: right;\n",
       "    }\n",
       "</style>\n",
       "<table border=\"1\" class=\"dataframe\">\n",
       "  <thead>\n",
       "    <tr style=\"text-align: right;\">\n",
       "      <th></th>\n",
       "      <th>Unnamed: 0</th>\n",
       "      <th>retiro</th>\n",
       "      <th>entrega</th>\n",
       "      <th>tamano</th>\n",
       "      <th>opcion_de_entrega</th>\n",
       "      <th>cantidad_de_paquetes</th>\n",
       "      <th>cantidad_de_asistentes</th>\n",
       "      <th>lat_retiro</th>\n",
       "      <th>lng_retiro</th>\n",
       "      <th>lat_entrega</th>\n",
       "      <th>lng_entrega</th>\n",
       "      <th>km</th>\n",
       "      <th>precio</th>\n",
       "    </tr>\n",
       "  </thead>\n",
       "  <tbody>\n",
       "    <tr>\n",
       "      <th>0</th>\n",
       "      <td>47.0</td>\n",
       "      <td>19 de abril 1213, Montevideo Uruguay</td>\n",
       "      <td>Copacabana 6808, Montevideo Uruguay</td>\n",
       "      <td>small</td>\n",
       "      <td>express</td>\n",
       "      <td>2.0</td>\n",
       "      <td>1.0</td>\n",
       "      <td>-34.844347</td>\n",
       "      <td>-56.250894</td>\n",
       "      <td>-34.883826</td>\n",
       "      <td>-56.046647</td>\n",
       "      <td>19.182770</td>\n",
       "      <td>1692.0</td>\n",
       "    </tr>\n",
       "    <tr>\n",
       "      <th>1</th>\n",
       "      <td>25.0</td>\n",
       "      <td>Eulogio Caballero, Montevideo Uruguay</td>\n",
       "      <td>Copacabana 6808, Montevideo Uruguay</td>\n",
       "      <td>small</td>\n",
       "      <td>express</td>\n",
       "      <td>2.0</td>\n",
       "      <td>1.0</td>\n",
       "      <td>-34.853517</td>\n",
       "      <td>-56.245285</td>\n",
       "      <td>-34.883826</td>\n",
       "      <td>-56.046647</td>\n",
       "      <td>18.470838</td>\n",
       "      <td>1467.0</td>\n",
       "    </tr>\n",
       "    <tr>\n",
       "      <th>2</th>\n",
       "      <td>78.0</td>\n",
       "      <td>Copacabana 6808, Montevideo Uruguay</td>\n",
       "      <td>Carlos Tellier, Montevideo, Uruguay</td>\n",
       "      <td>small</td>\n",
       "      <td>express</td>\n",
       "      <td>2.0</td>\n",
       "      <td>1.0</td>\n",
       "      <td>-34.883826</td>\n",
       "      <td>-56.046647</td>\n",
       "      <td>-34.853517</td>\n",
       "      <td>-56.245285</td>\n",
       "      <td>18.470838</td>\n",
       "      <td>2022.0</td>\n",
       "    </tr>\n",
       "    <tr>\n",
       "      <th>3</th>\n",
       "      <td>50.0</td>\n",
       "      <td>19 de abril 1213, Montevideo Uruguay</td>\n",
       "      <td>Rambla República de México, Montevideo Uruguay</td>\n",
       "      <td>small</td>\n",
       "      <td>express</td>\n",
       "      <td>2.0</td>\n",
       "      <td>1.0</td>\n",
       "      <td>-34.844347</td>\n",
       "      <td>-56.250894</td>\n",
       "      <td>-34.894122</td>\n",
       "      <td>-56.059510</td>\n",
       "      <td>18.349428</td>\n",
       "      <td>1473.0</td>\n",
       "    </tr>\n",
       "    <tr>\n",
       "      <th>4</th>\n",
       "      <td>28.0</td>\n",
       "      <td>Eulogio Caballero, Montevideo Uruguay</td>\n",
       "      <td>Rambla República de México, Montevideo Uruguay</td>\n",
       "      <td>small</td>\n",
       "      <td>express</td>\n",
       "      <td>2.0</td>\n",
       "      <td>1.0</td>\n",
       "      <td>-34.853517</td>\n",
       "      <td>-56.245285</td>\n",
       "      <td>-34.894122</td>\n",
       "      <td>-56.059510</td>\n",
       "      <td>17.572249</td>\n",
       "      <td>1692.0</td>\n",
       "    </tr>\n",
       "  </tbody>\n",
       "</table>\n",
       "</div>"
      ],
      "text/plain": [
       "   Unnamed: 0                                 retiro  \\\n",
       "0        47.0   19 de abril 1213, Montevideo Uruguay   \n",
       "1        25.0  Eulogio Caballero, Montevideo Uruguay   \n",
       "2        78.0    Copacabana 6808, Montevideo Uruguay   \n",
       "3        50.0   19 de abril 1213, Montevideo Uruguay   \n",
       "4        28.0  Eulogio Caballero, Montevideo Uruguay   \n",
       "\n",
       "                                          entrega tamano opcion_de_entrega  \\\n",
       "0             Copacabana 6808, Montevideo Uruguay  small           express   \n",
       "1             Copacabana 6808, Montevideo Uruguay  small           express   \n",
       "2             Carlos Tellier, Montevideo, Uruguay  small           express   \n",
       "3  Rambla República de México, Montevideo Uruguay  small           express   \n",
       "4  Rambla República de México, Montevideo Uruguay  small           express   \n",
       "\n",
       "   cantidad_de_paquetes  cantidad_de_asistentes  lat_retiro  lng_retiro  \\\n",
       "0                   2.0                     1.0  -34.844347  -56.250894   \n",
       "1                   2.0                     1.0  -34.853517  -56.245285   \n",
       "2                   2.0                     1.0  -34.883826  -56.046647   \n",
       "3                   2.0                     1.0  -34.844347  -56.250894   \n",
       "4                   2.0                     1.0  -34.853517  -56.245285   \n",
       "\n",
       "   lat_entrega  lng_entrega         km  precio  \n",
       "0   -34.883826   -56.046647  19.182770  1692.0  \n",
       "1   -34.883826   -56.046647  18.470838  1467.0  \n",
       "2   -34.853517   -56.245285  18.470838  2022.0  \n",
       "3   -34.894122   -56.059510  18.349428  1473.0  \n",
       "4   -34.894122   -56.059510  17.572249  1692.0  "
      ]
     },
     "execution_count": 2,
     "metadata": {},
     "output_type": "execute_result"
    }
   ],
   "source": [
    "results = pd.read_csv(\"address_results copy.csv\", sep = ',')\n",
    "results.head()"
   ]
  },
  {
   "cell_type": "markdown",
   "metadata": {},
   "source": [
    "### Mantener solo columnas necesarias"
   ]
  },
  {
   "cell_type": "code",
   "execution_count": 3,
   "metadata": {},
   "outputs": [
    {
     "data": {
      "text/html": [
       "<div>\n",
       "<style scoped>\n",
       "    .dataframe tbody tr th:only-of-type {\n",
       "        vertical-align: middle;\n",
       "    }\n",
       "\n",
       "    .dataframe tbody tr th {\n",
       "        vertical-align: top;\n",
       "    }\n",
       "\n",
       "    .dataframe thead th {\n",
       "        text-align: right;\n",
       "    }\n",
       "</style>\n",
       "<table border=\"1\" class=\"dataframe\">\n",
       "  <thead>\n",
       "    <tr style=\"text-align: right;\">\n",
       "      <th></th>\n",
       "      <th>km</th>\n",
       "      <th>precio</th>\n",
       "    </tr>\n",
       "  </thead>\n",
       "  <tbody>\n",
       "    <tr>\n",
       "      <th>0</th>\n",
       "      <td>19.182770</td>\n",
       "      <td>1692.0</td>\n",
       "    </tr>\n",
       "    <tr>\n",
       "      <th>1</th>\n",
       "      <td>18.470838</td>\n",
       "      <td>1467.0</td>\n",
       "    </tr>\n",
       "    <tr>\n",
       "      <th>2</th>\n",
       "      <td>18.470838</td>\n",
       "      <td>2022.0</td>\n",
       "    </tr>\n",
       "    <tr>\n",
       "      <th>3</th>\n",
       "      <td>18.349428</td>\n",
       "      <td>1473.0</td>\n",
       "    </tr>\n",
       "    <tr>\n",
       "      <th>4</th>\n",
       "      <td>17.572249</td>\n",
       "      <td>1692.0</td>\n",
       "    </tr>\n",
       "  </tbody>\n",
       "</table>\n",
       "</div>"
      ],
      "text/plain": [
       "          km  precio\n",
       "0  19.182770  1692.0\n",
       "1  18.470838  1467.0\n",
       "2  18.470838  2022.0\n",
       "3  18.349428  1473.0\n",
       "4  17.572249  1692.0"
      ]
     },
     "execution_count": 3,
     "metadata": {},
     "output_type": "execute_result"
    }
   ],
   "source": [
    "results = results[[\"km\", \"precio\"]]\n",
    "results.head()"
   ]
  },
  {
   "cell_type": "markdown",
   "metadata": {},
   "source": [
    "### Eliminar filas nulas"
   ]
  },
  {
   "cell_type": "code",
   "execution_count": 4,
   "metadata": {},
   "outputs": [
    {
     "name": "stdout",
     "output_type": "stream",
     "text": [
      "(296, 2)\n",
      "(252, 2)\n"
     ]
    }
   ],
   "source": [
    "print(results.shape)\n",
    "results = results.dropna()\n",
    "print(results.shape)"
   ]
  },
  {
   "cell_type": "markdown",
   "metadata": {},
   "source": [
    "### Separar en atributos de entrenamiento y atributo objetivo"
   ]
  },
  {
   "cell_type": "code",
   "execution_count": 5,
   "metadata": {},
   "outputs": [],
   "source": [
    "def sep():\n",
    "    print('\\n','*'*100,'\\n')\n",
    "    \n",
    "X = results.loc[:, results.columns != \"precio\"]\n",
    "y = results.loc[:, results.columns == \"precio\"]"
   ]
  },
  {
   "cell_type": "markdown",
   "metadata": {},
   "source": [
    "### Regresor lineal"
   ]
  },
  {
   "cell_type": "code",
   "execution_count": 6,
   "metadata": {},
   "outputs": [
    {
     "name": "stdout",
     "output_type": "stream",
     "text": [
      "El R2 de la regresión es:  0.5861537440694173\n",
      "\n",
      " **************************************************************************************************** \n",
      "\n",
      "Los coeficientes de la regresión son:  [[48.03331171]]\n",
      "\n",
      " **************************************************************************************************** \n",
      "\n",
      "La intercepción de la regresión es:  [941.23144629]\n"
     ]
    }
   ],
   "source": [
    "reg = LinearRegression().fit(X, y)\n",
    "print(\"El R2 de la regresión es: \", reg.score(X, y))\n",
    "sep()\n",
    "print(\"Los coeficientes de la regresión son: \", reg.coef_)\n",
    "sep()\n",
    "print(\"La intercepción de la regresión es: \", reg.intercept_)"
   ]
  },
  {
   "cell_type": "markdown",
   "metadata": {},
   "source": [
    "### Visualización"
   ]
  },
  {
   "cell_type": "code",
   "execution_count": 10,
   "metadata": {},
   "outputs": [
    {
     "data": {
      "text/plain": [
       "Text(0.5, 1.0, 'km vs. precio')"
      ]
     },
     "execution_count": 10,
     "metadata": {},
     "output_type": "execute_result"
    },
    {
     "data": {
      "image/png": "[encoded data removed]",
      "text/plain": [
       "<Figure size 432x288 with 1 Axes>"
      ]
     },
     "metadata": {
      "needs_background": "light"
     },
     "output_type": "display_data"
    }
   ],
   "source": [
    "plt.scatter(results.loc[:,'km'],\n",
    "            results.loc[:,'precio'])\n",
    "\n",
    "x = np.random.uniform(0.5,20,1000)\n",
    "pendiente = reg.coef_[0][0]\n",
    "y = x*pendiente+reg.intercept_[0]\n",
    "\n",
    "plt.plot(x,y, color = 'r')\n",
    "\n",
    "plt.xlabel('km')\n",
    "plt.ylabel('precio')\n",
    "plt.title('km vs. precio')"
   ]
  }
 ],
 "metadata": {
  "kernelspec": {
   "display_name": "Python 3",
   "language": "python",
   "name": "python3"
  },
  "language_info": {
   "codemirror_mode": {
    "name": "ipython",
    "version": 3
   },
   "file_extension": ".py",
   "mimetype": "text/x-python",
   "name": "python",
   "nbconvert_exporter": "python",
   "pygments_lexer": "ipython3",
   "version": "3.7.4"
  }
 },
 "nbformat": 4,
 "nbformat_minor": 2
}
